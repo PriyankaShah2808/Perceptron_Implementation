{
 "cells": [
  {
   "cell_type": "code",
   "execution_count": null,
   "id": "fb7f5372",
   "metadata": {
    "id": "fb7f5372"
   },
   "outputs": [],
   "source": [
    "import numpy as np\n",
    "import pandas as pd"
   ]
  },
  {
   "cell_type": "code",
   "execution_count": null,
   "id": "bfc6c174",
   "metadata": {
    "id": "bfc6c174"
   },
   "outputs": [],
   "source": [
    "#pip install pandas"
   ]
  },
  {
   "cell_type": "code",
   "execution_count": null,
   "id": "c8f451d9",
   "metadata": {
    "id": "c8f451d9"
   },
   "outputs": [],
   "source": [
    "class Perceptron:\n",
    "    def __init__(self,eta,epochs):\n",
    "        self.weights = np.random.randn(3)*1e-4\n",
    "        print(f\"Initial weights before training : {self.weights}\")\n",
    "        self.eta = eta\n",
    "        self.epochs = epochs\n",
    "\n",
    "    def activationFunction(self,inputs,weights):\n",
    "        z = np.dot(inputs,weights)\n",
    "        return np.where(z>0,1,0)\n",
    "\n",
    "    def fit(self,X,y):\n",
    "        self.X = X\n",
    "        self.y = y\n",
    "\n",
    "        X_with_bias = np.c_[self.X,-np.ones((len(self.X),1))]\n",
    "        print(f\"X_with_bias : {X_with_bias}\")\n",
    "\n",
    "        for epoch in range(self.epochs):\n",
    "            print(\"--\"*10)\n",
    "            print(f\"for epoch :{epoch}\")\n",
    "            print(\"--\"*10)\n",
    "\n",
    "            y_hat = self.activationFunction(X_with_bias,self.weights)\n",
    "            print(f\"redicted_values after forword pass:\\n{y_hat}\")\n",
    "\n",
    "            self.error = self.y - y_hat\n",
    "            print(f\"error : {self.error}\")\n",
    "            self.weights = self.weights + self.eta * np.dot(X_with_bias.T,self.error)\n",
    "\n",
    "            print(f\"updated weights after epoch : \\n{epoch}/{self.epochs}:\\n{self.weights}\")\n",
    "            print(\"####\"*10)\n",
    "\n",
    "\n",
    "    def predict(self,X):\n",
    "        X_with_bias = np.c_[self.X,-np.ones((len(X),1))]\n",
    "        return self.activationFunction(X_with_bias,self.weights)\n",
    "\n",
    "    def total_loss(self):\n",
    "        total_loss = np.sum(self.error)\n",
    "        print(f\"total loss : {total_loss}\")\n",
    "        return total_loss\n",
    "\n"
   ]
  },
  {
   "cell_type": "code",
   "execution_count": null,
   "id": "b90f2b6b",
   "metadata": {
    "id": "b90f2b6b"
   },
   "outputs": [],
   "source": [
    "def prepare_data(df):\n",
    "    print(df)\n",
    "    X_prepare = df.drop('y',axis = 1)\n",
    "    y_prepare = df['y']\n",
    "\n",
    "    return X_prepare,y_prepare"
   ]
  },
  {
   "cell_type": "code",
   "execution_count": null,
   "id": "b59fee06",
   "metadata": {
    "id": "b59fee06"
   },
   "outputs": [],
   "source": [
    "AND = {\n",
    "    \"x1\" : [0,0,1,1],\n",
    "    \"x2\" : [0,1,0,1],\n",
    "    \"y\" : [0,0,0,1]\n",
    "}\n",
    "df = pd.DataFrame(AND)"
   ]
  },
  {
   "cell_type": "code",
   "execution_count": null,
   "id": "2e10256e",
   "metadata": {
    "id": "2e10256e",
    "outputId": "580fd307-76c0-4dc7-f6fe-cd7ca6618f56"
   },
   "outputs": [
    {
     "data": {
      "text/html": [
       "<div>\n",
       "<style scoped>\n",
       "    .dataframe tbody tr th:only-of-type {\n",
       "        vertical-align: middle;\n",
       "    }\n",
       "\n",
       "    .dataframe tbody tr th {\n",
       "        vertical-align: top;\n",
       "    }\n",
       "\n",
       "    .dataframe thead th {\n",
       "        text-align: right;\n",
       "    }\n",
       "</style>\n",
       "<table border=\"1\" class=\"dataframe\">\n",
       "  <thead>\n",
       "    <tr style=\"text-align: right;\">\n",
       "      <th></th>\n",
       "      <th>x1</th>\n",
       "      <th>x2</th>\n",
       "      <th>y</th>\n",
       "    </tr>\n",
       "  </thead>\n",
       "  <tbody>\n",
       "    <tr>\n",
       "      <th>0</th>\n",
       "      <td>0</td>\n",
       "      <td>0</td>\n",
       "      <td>0</td>\n",
       "    </tr>\n",
       "    <tr>\n",
       "      <th>1</th>\n",
       "      <td>0</td>\n",
       "      <td>1</td>\n",
       "      <td>0</td>\n",
       "    </tr>\n",
       "    <tr>\n",
       "      <th>2</th>\n",
       "      <td>1</td>\n",
       "      <td>0</td>\n",
       "      <td>0</td>\n",
       "    </tr>\n",
       "    <tr>\n",
       "      <th>3</th>\n",
       "      <td>1</td>\n",
       "      <td>1</td>\n",
       "      <td>1</td>\n",
       "    </tr>\n",
       "  </tbody>\n",
       "</table>\n",
       "</div>"
      ],
      "text/plain": [
       "   x1  x2  y\n",
       "0   0   0  0\n",
       "1   0   1  0\n",
       "2   1   0  0\n",
       "3   1   1  1"
      ]
     },
     "execution_count": 67,
     "metadata": {},
     "output_type": "execute_result"
    }
   ],
   "source": [
    "df"
   ]
  },
  {
   "cell_type": "code",
   "execution_count": null,
   "id": "737e7c0e",
   "metadata": {
    "id": "737e7c0e",
    "outputId": "9b713428-ba67-44a2-e3cd-270a6de994da"
   },
   "outputs": [
    {
     "data": {
      "text/plain": [
       "0    0\n",
       "1    0\n",
       "2    0\n",
       "3    1\n",
       "Name: y, dtype: int64"
      ]
     },
     "execution_count": 68,
     "metadata": {},
     "output_type": "execute_result"
    }
   ],
   "source": [
    "df['y']"
   ]
  },
  {
   "cell_type": "code",
   "execution_count": null,
   "id": "112ef193",
   "metadata": {
    "id": "112ef193",
    "outputId": "9a60e9b5-ba79-46ec-fbe4-71953eefd867"
   },
   "outputs": [
    {
     "name": "stdout",
     "output_type": "stream",
     "text": [
      "   x1  x2  y\n",
      "0   0   0  0\n",
      "1   0   1  0\n",
      "2   1   0  0\n",
      "3   1   1  1\n",
      "Initial weights before training : [-1.15995326e-04 -9.60344746e-05 -8.23774938e-05]\n",
      "X_with_bias : [[ 0.  0. -1.]\n",
      " [ 0.  1. -1.]\n",
      " [ 1.  0. -1.]\n",
      " [ 1.  1. -1.]]\n",
      "--------------------\n",
      "for epoch :0\n",
      "--------------------\n",
      "redicted_values after forword pass:\n",
      "[1 0 0 0]\n",
      "error : 0   -1\n",
      "1    0\n",
      "2    0\n",
      "3    1\n",
      "Name: y, dtype: int64\n",
      "updated weights after epoch : \n",
      "0/10:\n",
      "[ 2.99884005e-01  2.99903966e-01 -8.23774938e-05]\n",
      "########################################\n",
      "--------------------\n",
      "for epoch :1\n",
      "--------------------\n",
      "redicted_values after forword pass:\n",
      "[1 1 1 1]\n",
      "error : 0   -1\n",
      "1   -1\n",
      "2   -1\n",
      "3    0\n",
      "Name: y, dtype: int64\n",
      "updated weights after epoch : \n",
      "1/10:\n",
      "[-1.15995326e-04 -9.60344746e-05  8.99917623e-01]\n",
      "########################################\n",
      "--------------------\n",
      "for epoch :2\n",
      "--------------------\n",
      "redicted_values after forword pass:\n",
      "[0 0 0 0]\n",
      "error : 0    0\n",
      "1    0\n",
      "2    0\n",
      "3    1\n",
      "Name: y, dtype: int64\n",
      "updated weights after epoch : \n",
      "2/10:\n",
      "[0.299884   0.29990397 0.59991762]\n",
      "########################################\n",
      "--------------------\n",
      "for epoch :3\n",
      "--------------------\n",
      "redicted_values after forword pass:\n",
      "[0 0 0 0]\n",
      "error : 0    0\n",
      "1    0\n",
      "2    0\n",
      "3    1\n",
      "Name: y, dtype: int64\n",
      "updated weights after epoch : \n",
      "3/10:\n",
      "[0.599884   0.59990397 0.29991762]\n",
      "########################################\n",
      "--------------------\n",
      "for epoch :4\n",
      "--------------------\n",
      "redicted_values after forword pass:\n",
      "[0 1 1 1]\n",
      "error : 0    0\n",
      "1   -1\n",
      "2   -1\n",
      "3    0\n",
      "Name: y, dtype: int64\n",
      "updated weights after epoch : \n",
      "4/10:\n",
      "[0.299884   0.29990397 0.89991762]\n",
      "########################################\n",
      "--------------------\n",
      "for epoch :5\n",
      "--------------------\n",
      "redicted_values after forword pass:\n",
      "[0 0 0 0]\n",
      "error : 0    0\n",
      "1    0\n",
      "2    0\n",
      "3    1\n",
      "Name: y, dtype: int64\n",
      "updated weights after epoch : \n",
      "5/10:\n",
      "[0.599884   0.59990397 0.59991762]\n",
      "########################################\n",
      "--------------------\n",
      "for epoch :6\n",
      "--------------------\n",
      "redicted_values after forword pass:\n",
      "[0 0 0 1]\n",
      "error : 0    0\n",
      "1    0\n",
      "2    0\n",
      "3    0\n",
      "Name: y, dtype: int64\n",
      "updated weights after epoch : \n",
      "6/10:\n",
      "[0.599884   0.59990397 0.59991762]\n",
      "########################################\n",
      "--------------------\n",
      "for epoch :7\n",
      "--------------------\n",
      "redicted_values after forword pass:\n",
      "[0 0 0 1]\n",
      "error : 0    0\n",
      "1    0\n",
      "2    0\n",
      "3    0\n",
      "Name: y, dtype: int64\n",
      "updated weights after epoch : \n",
      "7/10:\n",
      "[0.599884   0.59990397 0.59991762]\n",
      "########################################\n",
      "--------------------\n",
      "for epoch :8\n",
      "--------------------\n",
      "redicted_values after forword pass:\n",
      "[0 0 0 1]\n",
      "error : 0    0\n",
      "1    0\n",
      "2    0\n",
      "3    0\n",
      "Name: y, dtype: int64\n",
      "updated weights after epoch : \n",
      "8/10:\n",
      "[0.599884   0.59990397 0.59991762]\n",
      "########################################\n",
      "--------------------\n",
      "for epoch :9\n",
      "--------------------\n",
      "redicted_values after forword pass:\n",
      "[0 0 0 1]\n",
      "error : 0    0\n",
      "1    0\n",
      "2    0\n",
      "3    0\n",
      "Name: y, dtype: int64\n",
      "updated weights after epoch : \n",
      "9/10:\n",
      "[0.599884   0.59990397 0.59991762]\n",
      "########################################\n",
      "total loss : 0\n"
     ]
    }
   ],
   "source": [
    "X,y = prepare_data(df)\n",
    "ETA = 0.3\n",
    "EPOCHS = 10\n",
    "model = Perceptron(eta = ETA, epochs = EPOCHS)\n",
    "model.fit(X,y)\n",
    "\n",
    "_ = model.total_loss()"
   ]
  },
  {
   "cell_type": "code",
   "execution_count": null,
   "id": "80171001",
   "metadata": {
    "id": "80171001"
   },
   "outputs": [],
   "source": []
  },
  {
   "cell_type": "code",
   "execution_count": null,
   "id": "271b2a35",
   "metadata": {
    "id": "271b2a35"
   },
   "outputs": [],
   "source": []
  }
 ],
 "metadata": {
  "colab": {
   "provenance": []
  },
  "kernelspec": {
   "display_name": "Python 3 (ipykernel)",
   "language": "python",
   "name": "python3"
  },
  "language_info": {
   "codemirror_mode": {
    "name": "ipython",
    "version": 3
   },
   "file_extension": ".py",
   "mimetype": "text/x-python",
   "name": "python",
   "nbconvert_exporter": "python",
   "pygments_lexer": "ipython3",
   "version": "3.10.12"
  },
  "toc": {
   "base_numbering": 1,
   "nav_menu": {},
   "number_sections": true,
   "sideBar": true,
   "skip_h1_title": false,
   "title_cell": "Table of Contents",
   "title_sidebar": "Contents",
   "toc_cell": false,
   "toc_position": {},
   "toc_section_display": true,
   "toc_window_display": false
  }
 },
 "nbformat": 4,
 "nbformat_minor": 5
}
